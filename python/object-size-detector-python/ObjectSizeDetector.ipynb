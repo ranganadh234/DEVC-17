{
 "cells": [
  {
   "cell_type": "markdown",
   "metadata": {},
   "source": [
    "# Object Size Detector\n",
    "\n",
    "This object size detector application is one of a series of computer vision (CV) reference implementations using the Intel® Distribution of OpenVINO™ toolkit. This application demonstrates how to use CV to detect and measure the approximate length, width and size of assembly line parts. It is designed to work with an assembly line camera mounted above the assembly line belt. The application monitors mechanical parts as they are moving down the assembly line and raises an alert if it detects a part on the belt outside a specified size range.\n",
    "\n",
    "https://github.com/intel-iot-devkit/object-size-detector-python\n",
    "\n",
    "The implementation here (see <a href=\"ObjectSizeDetector.py\">main.py</a>) has been slightly modified to work in the IoT DevCloud environment.\n",
    "\n",
    "### Demo\n",
    "\n",
    "Select the cell below containing a Python code (to select, click with the mouse or use keyboard arrows). Then run the cell by pressing **Shift+Enter** or **CTRL+Enter** or by clicking the Run button in the toolbar.\n",
    "\n",
    "This demo does not use any Deep Learning models or inferencing. It runs locally on the development node based on an Intel Xeon Scalable processor, where this Jupyter Notebook has a single core allocated to it. In other words, this demo is not running calculations on any of the edge compute node represented in the IoT DevCloud. To see how to employ the edge compute nodes, refer to other examples.\n",
    "\n",
    "**Note**: The close button on the video will stop the video, but the application will continue to run. To stop the  application itself, interrupt the kernel. You can do this by going in the main menu to Kernel -> Interrupt.\n"
   ]
  },
  {
   "cell_type": "code",
   "execution_count": null,
   "metadata": {},
   "outputs": [],
   "source": [
    "%matplotlib notebook\n",
    "from IPython.core.display import HTML\n",
    "from ObjectSizeDetector import *\n",
    "import matplotlib.pyplot as plt\n",
    "\n",
    "# Creates a canvas for displaying the video with inference labels\n",
    "def draw_func(frame):\n",
    "    ax.clear()\n",
    "    ax.imshow(frame)\n",
    "    fig.canvas.draw()\n",
    "    \n",
    "plt.rcParams['figure.figsize'] = [12, 8]      \n",
    "fig,ax = plt.subplots(1,1)\n",
    "\n",
    "\n",
    "# Executes the inference workflow, displaying the results on the canvas\n",
    "runObjectDetector(\"resources/bolt-multi-size-detection.mp4\", 250, 228, 45, 28, draw_callback=draw_func)"
   ]
  },
  {
   "cell_type": "code",
   "execution_count": null,
   "metadata": {},
   "outputs": [],
   "source": []
  }
 ],
 "metadata": {
  "kernelspec": {
   "display_name": "Python 3 (Ubuntu)",
   "language": "python",
   "name": "c003-python_3"
  },
  "language_info": {
   "codemirror_mode": {
    "name": "ipython",
    "version": 3
   },
   "file_extension": ".py",
   "mimetype": "text/x-python",
   "name": "python",
   "nbconvert_exporter": "python",
   "pygments_lexer": "ipython3",
   "version": "3.5.2"
  }
 },
 "nbformat": 4,
 "nbformat_minor": 2
}
