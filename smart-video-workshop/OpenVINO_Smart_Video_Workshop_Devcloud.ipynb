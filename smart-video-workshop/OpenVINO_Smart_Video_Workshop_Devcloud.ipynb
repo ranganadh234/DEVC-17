{
 "cells": [
  {
   "cell_type": "markdown",
   "metadata": {},
   "source": [
    "# Run the cell below to check repository status\n",
    "<img src=\"demoTools/run-this.gif\" style=\"height:80px; margin-left:0;\"/>"
   ]
  },
  {
   "cell_type": "code",
   "execution_count": null,
   "metadata": {
    "deletable": false,
    "editable": false,
    "scrolled": false
   },
   "outputs": [],
   "source": [
    "from demoTools.catalog import DemoCatalog\n",
    "cat = DemoCatalog('demoTools/OpenVINO_Smart_Video_Workshop_Devcloud.json')\n",
    "cat.ShowRepositoryControls()\n",
    "%autosave 0"
   ]
  },
  {
   "cell_type": "markdown",
   "metadata": {},
   "source": [
    "## Workshop Agenda\n",
    "* **Smart Video/Computer Vision Tools Overview**\n",
    "  - Slides - [Introduction to Smart Video Tools](./presentations/01-Introduction-to-Intel-Smart-Video-Tools.pdf)\n",
    "\n",
    "* **Training a Deep Learning Model**\n",
    "  - Slides - [Training a Deep Learning Model](./presentations/DL_training_model.pdf)\n",
    "  - Lab - Training a Deep Learning Model [[Python](./dl-model-training/devcloud/Deep_Learning_Tutorial.ipynb)]\n",
    "  \n",
    "* **Basic End to End Object Detection Inference Example**\n",
    "  - Slides - [Basic End to End Object Detection Example](./presentations/02-03_Basic-End-to-End-Object-Detection-Example.pdf)\n",
    "  - Lab - Basic End to End Object Detection Example [[Python](./object-detection/devcloud/python/basic_end_to_end_object_detection.ipynb)] [[C++](./object-detection/devcloud/cpp/basic_end_to_end_object_detection_cpp.ipynb)] \n",
    "  - Lab - Tensor Flow example [[Python](./object-detection/devcloud/python/Tensor_Flow_example.ipynb)] [[C++](./object-detection/devcloud/cpp/Tensor_Flow_example_cpp.ipynb)] \n",
    "  - Lab - Object Detection with YOLOv3* model [[Python](./object-detection/devcloud/python/yoloV3/Object_Detection_using_Yolov3.ipynb)]  \n",
    "\n",
    "* **Hardware Heterogeneity**\n",
    "  - Lab - Hardware Heterogeneity [[Python](./hardware-heterogeneity/devcloud/python/hardware-heterogeneity.ipynb)][[C++](./hardware-heterogeneity/devcloud/cpp/hardware-heterogeneity-cpp.ipynb)]\n",
    "\n",
    "* **HW Acceleration with Intel® Movidius™ Neural Compute Stick**\n",
    "  - Lab - HW Acceleration with Intel® Movidius™ Neural Compute Stick [[Python](./HW-Acceleration-with-Movidious-NCS/devcloud/python/HW_Acceleration_With_Movidius_NCS.ipynb)] [[C++](./HW-Acceleration-with-Movidious-NCS/devcloud/cpp/HW_Acceleration_With_Movidius_NCS_cpp.ipynb)] \n",
    "  \n",
    "* **FPGA Inference Accelerator**\n",
    "  - Slides - [HW Acceleration with Intel® FPGA](./presentations/FPGA.pdf)\n",
    "  - Lab - HW Acceleration with Intel® FPGA [[Python](./FPGA-inference-accelerator/devcloud/python/fpga_object_detection.ipynb)] [[C++](./FPGA-inference-accelerator/devcloud/cpp/fpga_object_detection_cpp.ipynb)] \n",
    "\n",
    "* **Optimization Tools and Techniques** \n",
    "  - Slides - [Optimization Tools and Techniques](./presentations/04-05_Optimization_and_advanced_analytics.pdf)\n",
    "  - Lab - Optimization Tools and Techniques [[Python](./optimization-tools-and-techniques/devcloud/python/optimization_tools_and_techniques.ipynb)] [[C++](./optimization-tools-and-techniques/devcloud/cpp/optimization_tools_and_techniques_cpp.ipynb)]\n",
    " \n",
    "* **Advanced Video Analytics**\n",
    "  - Lab - Multiple models usage example [[Python](./advanced-video-analytics/devcloud/python/advanced_video_analytics.ipynb)] [[C++](./advanced-video-analytics/devcloud/cpp/advanced_video_analytics_cpp.ipynb)]    \n",
    "  \n",
    "<!----  \n",
    "* **UP²\\* AI Vision Development kit as Edge**\n",
    "  - Setup - [Development machine and Internet Connection Sharing](./up2-vision-kit/dev_machine_setup.md)\n",
    "  - Lab - [Interact face detection on UP2 kit using Intel® System Studio](./up2-vision-kit/openvino-projects-using-iss2019.md) ---->\n",
    "\n",
    "* **Implement Custom Layers for Inference on CPU and Integrated GPU**\n",
    "  - Slides - [Custom Layer](./presentations/custom_layer.pdf)\n",
    "  - Lab - Custom Layer[[Python/C++](./custom_layer/custom_layer.ipynb)]  \n",
    "  \n",
    "  \n",
    "* **Additional Examples - Reference Implementations**\n",
    "  - Industrial \n",
    "\t- [Restricted Zone Notifier](https://github.com/intel-iot-devkit/restricted-zone-notifier-cpp)\n",
    "    - [Object Size Detector](https://github.com/intel-iot-devkit/object-size-detector-cpp)\n",
    "  - Retail \n",
    "    - [Store Traffic Monitor](https://github.com/intel-iot-devkit/store-traffic-monitor)\n",
    "    - [Shopper Gaze Monitor](https://github.com/intel-iot-devkit/shopper-gaze-monitor-cpp)\n",
    "    \n",
    "<!--\t\n",
    "* **Workshop Survey**\n",
    "  - [Workshop Survey](https://idz.qualtrics.com/jfe/form/SV_a9GvOxtOrOziykB)\n",
    "  - [Custom Layer Tutorial Survey](https://intelemployee.az1.qualtrics.com/jfe/form/SV_1ZjOKaEIQUM5FpX)\n",
    "  - [Embedded Vision Summit Workshop Survey](https://intel.az1.qualtrics.com/jfe/form/SV_6RsCwmj6QGD3PAF)\n",
    "  -->"
   ]
  },
  {
   "cell_type": "code",
   "execution_count": null,
   "metadata": {},
   "outputs": [],
   "source": []
  }
 ],
 "metadata": {
  "kernelspec": {
   "display_name": "Python 3 (Ubuntu)",
   "language": "python",
   "name": "c003-python_3"
  },
  "language_info": {
   "codemirror_mode": {
    "name": "ipython",
    "version": 3
   },
   "file_extension": ".py",
   "mimetype": "text/x-python",
   "name": "python",
   "nbconvert_exporter": "python",
   "pygments_lexer": "ipython3",
   "version": "3.6.8"
  }
 },
 "nbformat": 4,
 "nbformat_minor": 2
}
